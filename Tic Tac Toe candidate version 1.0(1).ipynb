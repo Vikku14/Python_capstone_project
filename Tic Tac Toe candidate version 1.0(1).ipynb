{
 "cells": [
  {
   "cell_type": "code",
   "execution_count": 22,
   "metadata": {},
   "outputs": [],
   "source": [
    "matrix = [[1,1,1],[1,1,1],[1,1,1]]\n",
    "def initialize():\n",
    "    for i in range(0,3):\n",
    "        for j in range(0,3):\n",
    "            matrix[i][j]='-'\n",
    "initialize()"
   ]
  },
  {
   "cell_type": "code",
   "execution_count": 23,
   "metadata": {},
   "outputs": [],
   "source": [
    "from __future__ import print_function"
   ]
  },
  {
   "cell_type": "code",
   "execution_count": 24,
   "metadata": {},
   "outputs": [
    {
     "name": "stdout",
     "output_type": "stream",
     "text": [
      "-\t-\t-\t\n",
      "------------------\n",
      "-\t-\t-\t\n",
      "------------------\n",
      "-\t-\t-\t\n",
      "------------------\n"
     ]
    }
   ],
   "source": [
    "def board():\n",
    "    for i in range(0,3):\n",
    "        for j in range(0,3):\n",
    "            print (matrix[i][j],end='\\t')\n",
    "        print (\"\\n------------------\")\n",
    "board()"
   ]
  },
  {
   "cell_type": "code",
   "execution_count": 25,
   "metadata": {},
   "outputs": [
    {
     "name": "stdout",
     "output_type": "stream",
     "text": [
      "[['-', '-', '-'], ['-', '-', '-'], ['-', '-', '-']]\n",
      "[['-', '-', '-'], ['-', '-', '-'], ['-', '-', '-']]\n",
      "[['-', '-', '-'], ['-', '-', '-'], ['-', '-', '-']]\n",
      "[['-', '-', '-'], ['-', '-', '-'], ['-', '-', '-']]\n",
      "[['-', '-', '-'], ['-', '-', '-'], ['-', '-', '-']]\n",
      "[['-', '-', '-'], ['-', '-', '-'], ['-', '-', '-']]\n",
      "[['-', '-', '-'], ['-', '-', '-'], ['-', '-', '-']]\n",
      "[['-', '-', '-'], ['-', '-', '-'], ['-', '-', '-']]\n",
      "[['-', '-', '-'], ['-', '-', '-'], ['-', '-', '-']]\n"
     ]
    }
   ],
   "source": [
    "for i in matrix:\n",
    "    for j in i:\n",
    "        if 'X' and 'O' in j:\n",
    "            \n",
    "            print(i, j,\" Found \")\n",
    "        else:\n",
    "            print(matrix)"
   ]
  },
  {
   "cell_type": "code",
   "execution_count": 26,
   "metadata": {},
   "outputs": [],
   "source": [
    "count= 0\n",
    "def put(r,c):\n",
    "    global count\n",
    "    if(count%2 == 0):\n",
    "        m='X'\n",
    "    else:\n",
    "        m='O'\n",
    "    matrix[r-1][c-1]= m\n",
    "    count+=1\n",
    "    board()\n"
   ]
  },
  {
   "cell_type": "code",
   "execution_count": 27,
   "metadata": {},
   "outputs": [],
   "source": [
    "def check():    \n",
    "    if matrix[0][0]==matrix[0][1]==matrix[0][2]=='X' or matrix[1][0]==matrix[1][1]==matrix[1][2]=='X':\n",
    "        print(\"Player1 : Won\")\n",
    "        return True\n",
    "    elif matrix[0][0]==matrix[1][0]==matrix[2][0]=='X' or matrix[0][1]==matrix[1][1]==matrix[2][1]=='X' or matrix[2][0]==matrix[2][1]==matrix[2][2]=='X':\n",
    "        print(\"Player1 : Won\")\n",
    "        return True   \n",
    "    elif matrix[0][0]==matrix[1][0]==matrix[2][0]=='O' or matrix[0][1]==matrix[1][1]==matrix[2][1]=='O' or matrix[0][2]==matrix[1][2]==matrix[2][2]=='O':\n",
    "        print(\"Player2 : Won\")\n",
    "        return True  \n",
    "    elif matrix[2][0]==matrix[2][1]==matrix[2][2]=='X' or matrix[0][0]==matrix[1][1]==matrix[2][2]=='X' or matrix[0][2]==matrix[1][1]==matrix[2][0]=='X' :\n",
    "        print(\"Player1 : Won\")\n",
    "        return True\n",
    "    elif matrix[0][0]==matrix[0][1]==matrix[0][2]=='O' or matrix[1][0]==matrix[1][1]==matrix[1][2]=='O':\n",
    "        print(\"Player2 : Won\")\n",
    "        return True\n",
    "    elif matrix[2][0]==matrix[2][1]==matrix[2][2]=='O' or matrix[0][0]==matrix[1][1]==matrix[2][2]=='O' or matrix[0][2]==matrix[1][1]==matrix[2][0]=='O' :\n",
    "        print(\"Player2 : Won\")\n",
    "        return True    \n",
    "    for i in matrix:        \n",
    "        for j in i:            \n",
    "            if '-' in j:\n",
    "                return False    \n",
    "    else:\n",
    "        print(\"game Tied\")\n",
    "        return True"
   ]
  },
  {
   "cell_type": "code",
   "execution_count": 29,
   "metadata": {},
   "outputs": [
    {
     "name": "stdout",
     "output_type": "stream",
     "text": [
      "Enter Row 1\n",
      "Enter Column 2\n",
      "Enter Row 3\n",
      "Enter Column 3\n",
      "-\tX\t-\t\n",
      "------------------\n",
      "-\t-\t-\t\n",
      "------------------\n",
      "X\tO\tO\t\n",
      "------------------\n",
      "Enter Row 1\n",
      "Enter Column 1\n",
      "X\tX\t-\t\n",
      "------------------\n",
      "-\t-\t-\t\n",
      "------------------\n",
      "X\tO\tO\t\n",
      "------------------\n",
      "Enter Row 1\n",
      "Enter Column 3\n",
      "X\tX\tO\t\n",
      "------------------\n",
      "-\t-\t-\t\n",
      "------------------\n",
      "X\tO\tO\t\n",
      "------------------\n",
      "Enter Row 2\n",
      "Enter Column 3\n",
      "X\tX\tO\t\n",
      "------------------\n",
      "-\t-\tX\t\n",
      "------------------\n",
      "X\tO\tO\t\n",
      "------------------\n",
      "Enter Row 2\n",
      "Enter Column 1\n",
      "X\tX\tO\t\n",
      "------------------\n",
      "O\t-\tX\t\n",
      "------------------\n",
      "X\tO\tO\t\n",
      "------------------\n",
      "Enter Row 2\n",
      "Enter Column 2\n",
      "X\tX\tO\t\n",
      "------------------\n",
      "O\tX\tX\t\n",
      "------------------\n",
      "X\tO\tO\t\n",
      "------------------\n",
      "game Tied\n",
      "Game finished\n",
      "Want'a play again? n\n",
      "Thanks for play\n"
     ]
    }
   ],
   "source": [
    "def ask():\n",
    "    row= int(raw_input(\"Enter Row \"))\n",
    "    column= int(raw_input(\"Enter Column \"))\n",
    "    while(matrix[row-1][column-1] is 'X' or matrix[row-1][column-1] is 'O'):\n",
    "        row= int(raw_input(\"Enter Row \"))\n",
    "        column= int(raw_input(\"Enter Column \"))\n",
    "    else:\n",
    "        put(row,column)\n",
    "   \n",
    "            \n",
    "while check() is False:\n",
    "    ask()\n",
    "else:\n",
    "    print (\"Game finished\")\n",
    "response= raw_input(\"Want'a play again? \")\n",
    "while response is 'yes' or response is 'y' or response is 'Y':\n",
    "    initialize()\n",
    "    board()\n",
    "    while check() is False:\n",
    "        ask()\n",
    "    else:\n",
    "        print (\"Game finished\")\n",
    "        response= raw_input(\"Want'a play again? \")\n",
    "else:\n",
    "        print(\"Thanks for play\")"
   ]
  },
  {
   "cell_type": "code",
   "execution_count": null,
   "metadata": {},
   "outputs": [],
   "source": []
  },
  {
   "cell_type": "code",
   "execution_count": null,
   "metadata": {},
   "outputs": [],
   "source": []
  }
 ],
 "metadata": {
  "kernelspec": {
   "display_name": "Python 2",
   "language": "python",
   "name": "python2"
  },
  "language_info": {
   "codemirror_mode": {
    "name": "ipython",
    "version": 2
   },
   "file_extension": ".py",
   "mimetype": "text/x-python",
   "name": "python",
   "nbconvert_exporter": "python",
   "pygments_lexer": "ipython2",
   "version": "2.7.12"
  }
 },
 "nbformat": 4,
 "nbformat_minor": 2
}
