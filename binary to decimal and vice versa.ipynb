{
 "cells": [
  {
   "cell_type": "markdown",
   "metadata": {},
   "source": [
    "# Binary to decimal and Vice-versa"
   ]
  },
  {
   "cell_type": "markdown",
   "metadata": {},
   "source": [
    "I used decoders.."
   ]
  },
  {
   "cell_type": "code",
   "execution_count": 58,
   "metadata": {},
   "outputs": [],
   "source": [
    "def conversion():\n",
    "    def binary_to_decimal():\n",
    "        while True:            \n",
    "            value= raw_input(\"enter binary number\")\n",
    "            if not('0' or '1') not in value:\n",
    "                break\n",
    "        out = []        \n",
    "        for char in range(len(value)):\n",
    "            out.append(value[char])\n",
    "        return reduce(lambda x,y: int(x)*2 + int(y),out)   \n",
    "    \n",
    "    def decimal_to_binary():\n",
    "        value= int(raw_input(\"enter Decimal number \"))\n",
    "        out= []\n",
    "        while(value>0):\n",
    "            out.append(value%2)\n",
    "            value/=2\n",
    "        return out[0:5]    \n",
    "    \n",
    "    inp= int(raw_input(\"select choice \\n1: Binary to decimal 2: Decimal to binary \"))\n",
    "    if inp is 1 :\n",
    "        return binary_to_decimal()\n",
    "    elif inp is 2:\n",
    "        return decimal_to_binary()\n",
    "    else:\n",
    "        printf(\"wrong input\")"
   ]
  },
  {
   "cell_type": "code",
   "execution_count": 59,
   "metadata": {},
   "outputs": [
    {
     "name": "stdout",
     "output_type": "stream",
     "text": [
      "select choice \n",
      "1: Binary to decimal 2: Decimal to binary 1\n",
      "enter binary number1010\n"
     ]
    },
    {
     "data": {
      "text/plain": [
       "10"
      ]
     },
     "execution_count": 59,
     "metadata": {},
     "output_type": "execute_result"
    }
   ],
   "source": [
    "conversion()"
   ]
  },
  {
   "cell_type": "code",
   "execution_count": null,
   "metadata": {},
   "outputs": [],
   "source": []
  }
 ],
 "metadata": {
  "kernelspec": {
   "display_name": "Python 2",
   "language": "python",
   "name": "python2"
  },
  "language_info": {
   "codemirror_mode": {
    "name": "ipython",
    "version": 2
   },
   "file_extension": ".py",
   "mimetype": "text/x-python",
   "name": "python",
   "nbconvert_exporter": "python",
   "pygments_lexer": "ipython2",
   "version": "2.7.12"
  }
 },
 "nbformat": 4,
 "nbformat_minor": 2
}
